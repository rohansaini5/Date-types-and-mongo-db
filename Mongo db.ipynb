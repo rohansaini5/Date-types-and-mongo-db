{
 "cells": [
  {
   "cell_type": "code",
   "execution_count": 2,
   "metadata": {},
   "outputs": [],
   "source": [
    "import pymongo"
   ]
  },
  {
   "cell_type": "markdown",
   "metadata": {},
   "source": [
    "# Creating a Database\n",
    "To create a database in MongoDB, start by creating a MongoClient object, then specify a connection URL with the correct ip address and the name of the database you want to create.\n",
    "\n",
    "MongoDB will create the database if it does not exist, and make a connection to it."
   ]
  },
  {
   "cell_type": "code",
   "execution_count": 3,
   "metadata": {},
   "outputs": [],
   "source": [
    "myclient = pymongo.MongoClient(\"mongodb://localhost:27017/\")\n",
    "\n",
    "mydb = myclient[\"my\"]"
   ]
  },
  {
   "cell_type": "markdown",
   "metadata": {},
   "source": [
    "Important: In MongoDB, a database is not created until it gets content!\n",
    "\n",
    "MongoDB waits until you have created a collection (table), with at least one document (record) before it actually creates the database (and collection)."
   ]
  },
  {
   "cell_type": "markdown",
   "metadata": {},
   "source": [
    "# Check if Database Exists\n",
    "Remember: In MongoDB, a database is not created until it gets content, so if this is your first time creating a database, you should complete the next two chapters (create collection and create document) before you check if the database exists!\n",
    "\n",
    "You can check if a database exist by listing all databases in you system:"
   ]
  },
  {
   "cell_type": "code",
   "execution_count": 4,
   "metadata": {},
   "outputs": [
    {
     "name": "stdout",
     "output_type": "stream",
     "text": [
      "['Pavandb', 'admin', 'config', 'local', 'mydata', 'mydatabase']\n"
     ]
    }
   ],
   "source": [
    "print(myclient.list_database_names())"
   ]
  },
  {
   "cell_type": "markdown",
   "metadata": {},
   "source": [
    "# Python MongoDB Create Collection\n",
    "A collection in MongoDB is the same as a table in SQL databases.\n",
    "\n",
    "# Creating a Collection\n",
    "To create a collection in MongoDB, use database object and specify the name of the collection you want to create.\n",
    "\n",
    "MongoDB will create the collection if it does not exist."
   ]
  },
  {
   "cell_type": "code",
   "execution_count": 6,
   "metadata": {},
   "outputs": [],
   "source": [
    "import pymongo\n",
    "\n",
    "myclient = pymongo.MongoClient(\"mongodb://localhost:27017/\")\n",
    "mydb = myclient[\"my\"]\n",
    "\n",
    "mycol = mydb[\"customers\"]"
   ]
  },
  {
   "cell_type": "markdown",
   "metadata": {},
   "source": [
    "Important: In MongoDB, a collection is not created until it gets content!\n",
    "\n",
    "MongoDB waits until you have inserted a document before it actually creates the collection."
   ]
  },
  {
   "cell_type": "markdown",
   "metadata": {},
   "source": [
    "# Check if Collection Exists\n",
    "Remember: In MongoDB, a collection is not created until it gets content, so if this is your first time creating a collection, you should complete the next chapter (create document) before you check if the collection exists!\n",
    "\n",
    "You can check if a collection exist in a database by listing all collections:\n",
    "\n"
   ]
  },
  {
   "cell_type": "code",
   "execution_count": 7,
   "metadata": {},
   "outputs": [
    {
     "name": "stdout",
     "output_type": "stream",
     "text": [
      "[]\n"
     ]
    }
   ],
   "source": [
    "print(mydb.list_collection_names())"
   ]
  },
  {
   "cell_type": "markdown",
   "metadata": {},
   "source": [
    "# Python MongoDB Insert Document\n",
    "A document in MongoDB is the same as a record in SQL databases."
   ]
  },
  {
   "cell_type": "markdown",
   "metadata": {},
   "source": [
    "# Insert Into Collection\n",
    "To insert a record, or document as it is called in MongoDB, into a collection, we use the insert_one() method.\n",
    "\n",
    "The first parameter of the insert_one() method is a dictionary containing the name(s) and value(s) of each field in the document you want to insert."
   ]
  },
  {
   "cell_type": "code",
   "execution_count": 8,
   "metadata": {},
   "outputs": [],
   "source": [
    "myclient = pymongo.MongoClient(\"mongodb://localhost:27017/\")\n",
    "mydb = myclient[\"my\"]\n",
    "mycol = mydb[\"customers\"]\n",
    "\n",
    "mydict = { \"name\": \"John\", \"address\": \"Highway 37\" }\n",
    "\n",
    "x = mycol.insert_one(mydict)"
   ]
  },
  {
   "cell_type": "markdown",
   "metadata": {},
   "source": [
    "# Return the _id Field\n",
    "The insert_one() method returns a InsertOneResult object, which has a property, inserted_id, that holds the id of the inserted document."
   ]
  },
  {
   "cell_type": "code",
   "execution_count": 34,
   "metadata": {},
   "outputs": [
    {
     "name": "stdout",
     "output_type": "stream",
     "text": [
      "5d0b5450a691f85097f05eba\n"
     ]
    }
   ],
   "source": [
    "mydict = { \"name\": \"Peter\", \"address\": \"Lowstreet 27\" }\n",
    "\n",
    "x = mycol.insert_one(mydict)\n",
    " \n",
    "print(x.inserted_id)"
   ]
  },
  {
   "cell_type": "markdown",
   "metadata": {},
   "source": [
    "# Insert Multiple Documents\n",
    "To insert multiple documents into a collection in MongoDB, we use the insert_many() method.\n",
    "\n",
    "The first parameter of the insert_many() method is a list containing dictionaries with the data you want to insert:"
   ]
  },
  {
   "cell_type": "code",
   "execution_count": 19,
   "metadata": {},
   "outputs": [
    {
     "name": "stdout",
     "output_type": "stream",
     "text": [
      "[ObjectId('5d0b360ca691f85097f05ea1'), ObjectId('5d0b360ca691f85097f05ea2'), ObjectId('5d0b360ca691f85097f05ea3'), ObjectId('5d0b360ca691f85097f05ea4'), ObjectId('5d0b360ca691f85097f05ea5'), ObjectId('5d0b360ca691f85097f05ea6'), ObjectId('5d0b360ca691f85097f05ea7'), ObjectId('5d0b360ca691f85097f05ea8'), ObjectId('5d0b360ca691f85097f05ea9'), ObjectId('5d0b360ca691f85097f05eaa'), ObjectId('5d0b360ca691f85097f05eab'), ObjectId('5d0b360ca691f85097f05eac')]\n"
     ]
    }
   ],
   "source": [
    "import pymongo\n",
    "\n",
    "myclient = pymongo.MongoClient(\"mongodb://localhost:27017/\")\n",
    "mydb = myclient[\"mydatabase\"]\n",
    "mycol = mydb[\"customers\"]\n",
    "\n",
    "mylist = [\n",
    "  { \"name\": \"Amy\", \"address\": \"Apple st 652\"},\n",
    "  { \"name\": \"Hannah\", \"address\": \"Mountain 21\"},\n",
    "  { \"name\": \"Michael\", \"address\": \"Valley 345\"},\n",
    "  { \"name\": \"Sandy\", \"address\": \"Ocean blvd 2\"},\n",
    "  { \"name\": \"Betty\", \"address\": \"Green Grass 1\"},\n",
    "  { \"name\": \"Richard\", \"address\": \"Sky st 331\"},\n",
    "  { \"name\": \"Susan\", \"address\": \"One way 98\"},\n",
    "  { \"name\": \"Vicky\", \"address\": \"Yellow Garden 2\"},\n",
    "  { \"name\": \"Ben\", \"address\": \"Park Lane 38\"},\n",
    "  { \"name\": \"William\", \"address\": \"Central st 954\"},\n",
    "  { \"name\": \"Chuck\", \"address\": \"Main Road 989\"},\n",
    "  { \"name\": \"Viola\", \"address\": \"Sideway 1633\"}\n",
    "]\n",
    "\n",
    "x = mycol.insert_many(mylist)\n",
    "\n",
    "#print list of the _id values of the inserted documents:\n",
    "print(x.inserted_ids)"
   ]
  },
  {
   "cell_type": "markdown",
   "metadata": {},
   "source": [
    "# Python MongoDB Find\n",
    "In MongoDB we use the find and findOne methods to find data in a collection.\n",
    "\n",
    "Just like the SELECT statement is used to find data in a table in a MySQL database."
   ]
  },
  {
   "cell_type": "code",
   "execution_count": 20,
   "metadata": {},
   "outputs": [
    {
     "name": "stdout",
     "output_type": "stream",
     "text": [
      "{'_id': ObjectId('5d0921ced8e8944e7feb6715'), 'name': 'John', 'address': 'Highway 37'}\n"
     ]
    }
   ],
   "source": [
    "#Find the first document in the customers collection:\n",
    "\n",
    "import pymongo\n",
    "\n",
    "myclient = pymongo.MongoClient(\"mongodb://localhost:27017/\")\n",
    "mydb = myclient[\"mydatabase\"]\n",
    "mycol = mydb[\"customers\"]\n",
    "\n",
    "x = mycol.find_one()\n",
    "\n",
    "print(x)"
   ]
  },
  {
   "cell_type": "code",
   "execution_count": 21,
   "metadata": {},
   "outputs": [
    {
     "name": "stdout",
     "output_type": "stream",
     "text": [
      "{'_id': ObjectId('5d0921ced8e8944e7feb6715'), 'name': 'John', 'address': 'Highway 37'}\n",
      "{'_id': ObjectId('5d0b32e4ea2fc73a3b472e79'), 'name': 'John', 'address': 'Highway 37'}\n",
      "{'_id': ObjectId('5d0b32f6ea2fc73a3b472e7e'), 'name': 'John', 'address': 'Highway 37'}\n",
      "{'_id': ObjectId('5d0b330ca691f85097f05e98'), 'name': 'John', 'address': 'Highway 37'}\n",
      "{'_id': ObjectId('5d0b3542a691f85097f05e99'), 'name': 'Peter', 'address': 'Lowstreet 27'}\n",
      "{'_id': ObjectId('5d0b357ba691f85097f05e9d'), 'name': 'John', 'address': 'Highway 37'}\n",
      "{'_id': ObjectId('5d0b3580a691f85097f05e9e'), 'name': 'Peter', 'address': 'Lowstreet 27'}\n",
      "{'_id': ObjectId('5d0b360ca691f85097f05ea1'), 'name': 'Amy', 'address': 'Apple st 652'}\n",
      "{'_id': ObjectId('5d0b360ca691f85097f05ea2'), 'name': 'Hannah', 'address': 'Mountain 21'}\n",
      "{'_id': ObjectId('5d0b360ca691f85097f05ea3'), 'name': 'Michael', 'address': 'Valley 345'}\n",
      "{'_id': ObjectId('5d0b360ca691f85097f05ea4'), 'name': 'Sandy', 'address': 'Ocean blvd 2'}\n",
      "{'_id': ObjectId('5d0b360ca691f85097f05ea5'), 'name': 'Betty', 'address': 'Green Grass 1'}\n",
      "{'_id': ObjectId('5d0b360ca691f85097f05ea6'), 'name': 'Richard', 'address': 'Sky st 331'}\n",
      "{'_id': ObjectId('5d0b360ca691f85097f05ea7'), 'name': 'Susan', 'address': 'One way 98'}\n",
      "{'_id': ObjectId('5d0b360ca691f85097f05ea8'), 'name': 'Vicky', 'address': 'Yellow Garden 2'}\n",
      "{'_id': ObjectId('5d0b360ca691f85097f05ea9'), 'name': 'Ben', 'address': 'Park Lane 38'}\n",
      "{'_id': ObjectId('5d0b360ca691f85097f05eaa'), 'name': 'William', 'address': 'Central st 954'}\n",
      "{'_id': ObjectId('5d0b360ca691f85097f05eab'), 'name': 'Chuck', 'address': 'Main Road 989'}\n",
      "{'_id': ObjectId('5d0b360ca691f85097f05eac'), 'name': 'Viola', 'address': 'Sideway 1633'}\n"
     ]
    }
   ],
   "source": [
    "#Return all documents in the \"customers\" collection, and print each document:\n",
    "import pymongo\n",
    "\n",
    "myclient = pymongo.MongoClient(\"mongodb://localhost:27017/\")\n",
    "mydb = myclient[\"mydatabase\"]\n",
    "mycol = mydb[\"customers\"]\n",
    "\n",
    "for x in mycol.find():\n",
    "  print(x)"
   ]
  },
  {
   "cell_type": "markdown",
   "metadata": {},
   "source": [
    "# Return Only Some Fields\n",
    "The second parameter of the find() method is an object describing which fields to include in the result.\n",
    "\n",
    "This parameter is optional, and if omitted, all fields will be included in the result.\n",
    "#Return only the names and addresses, not the _ids:"
   ]
  },
  {
   "cell_type": "code",
   "execution_count": 22,
   "metadata": {},
   "outputs": [
    {
     "name": "stdout",
     "output_type": "stream",
     "text": [
      "{'name': 'John', 'address': 'Highway 37'}\n",
      "{'name': 'John', 'address': 'Highway 37'}\n",
      "{'name': 'John', 'address': 'Highway 37'}\n",
      "{'name': 'John', 'address': 'Highway 37'}\n",
      "{'name': 'Peter', 'address': 'Lowstreet 27'}\n",
      "{'name': 'John', 'address': 'Highway 37'}\n",
      "{'name': 'Peter', 'address': 'Lowstreet 27'}\n",
      "{'name': 'Amy', 'address': 'Apple st 652'}\n",
      "{'name': 'Hannah', 'address': 'Mountain 21'}\n",
      "{'name': 'Michael', 'address': 'Valley 345'}\n",
      "{'name': 'Sandy', 'address': 'Ocean blvd 2'}\n",
      "{'name': 'Betty', 'address': 'Green Grass 1'}\n",
      "{'name': 'Richard', 'address': 'Sky st 331'}\n",
      "{'name': 'Susan', 'address': 'One way 98'}\n",
      "{'name': 'Vicky', 'address': 'Yellow Garden 2'}\n",
      "{'name': 'Ben', 'address': 'Park Lane 38'}\n",
      "{'name': 'William', 'address': 'Central st 954'}\n",
      "{'name': 'Chuck', 'address': 'Main Road 989'}\n",
      "{'name': 'Viola', 'address': 'Sideway 1633'}\n"
     ]
    }
   ],
   "source": [
    "import pymongo\n",
    "\n",
    "myclient = pymongo.MongoClient(\"mongodb://localhost:27017/\")\n",
    "mydb = myclient[\"mydatabase\"]\n",
    "mycol = mydb[\"customers\"]\n",
    "\n",
    "for x in mycol.find({},{ \"_id\": 0, \"name\": 1, \"address\": 1 }):\n",
    "  print(x)"
   ]
  },
  {
   "cell_type": "markdown",
   "metadata": {},
   "source": [
    "# Python MongoDB Query\n",
    "Filter the Result\n",
    "When finding documents in a collection, you can filter the result by using a query object.\n",
    "\n",
    "The first argument of the find() method is a query object, and is used to limit the search."
   ]
  },
  {
   "cell_type": "code",
   "execution_count": 23,
   "metadata": {},
   "outputs": [
    {
     "name": "stdout",
     "output_type": "stream",
     "text": [
      "{'_id': ObjectId('5d0b360ca691f85097f05ea9'), 'name': 'Ben', 'address': 'Park Lane 38'}\n"
     ]
    }
   ],
   "source": [
    "#Find document(s) with the address \"Park Lane 38\":\n",
    "import pymongo\n",
    "\n",
    "myclient = pymongo.MongoClient(\"mongodb://localhost:27017/\")\n",
    "mydb = myclient[\"mydatabase\"]\n",
    "mycol = mydb[\"customers\"]\n",
    "\n",
    "myquery = { \"address\": \"Park Lane 38\" }\n",
    "\n",
    "mydoc = mycol.find(myquery)\n",
    "\n",
    "for x in mydoc:\n",
    "  print(x)"
   ]
  },
  {
   "cell_type": "markdown",
   "metadata": {},
   "source": [
    "# Sort the Result\n",
    "Use the sort() method to sort the result in ascending or descending order.\n",
    "\n",
    "The sort() method takes one parameter for \"fieldname\" and one parameter for \"direction\" (ascending is the default direction)"
   ]
  },
  {
   "cell_type": "code",
   "execution_count": 24,
   "metadata": {},
   "outputs": [
    {
     "name": "stdout",
     "output_type": "stream",
     "text": [
      "{'_id': ObjectId('5d0b360ca691f85097f05ea1'), 'name': 'Amy', 'address': 'Apple st 652'}\n",
      "{'_id': ObjectId('5d0b360ca691f85097f05ea9'), 'name': 'Ben', 'address': 'Park Lane 38'}\n",
      "{'_id': ObjectId('5d0b360ca691f85097f05ea5'), 'name': 'Betty', 'address': 'Green Grass 1'}\n",
      "{'_id': ObjectId('5d0b360ca691f85097f05eab'), 'name': 'Chuck', 'address': 'Main Road 989'}\n",
      "{'_id': ObjectId('5d0b360ca691f85097f05ea2'), 'name': 'Hannah', 'address': 'Mountain 21'}\n",
      "{'_id': ObjectId('5d0921ced8e8944e7feb6715'), 'name': 'John', 'address': 'Highway 37'}\n",
      "{'_id': ObjectId('5d0b32e4ea2fc73a3b472e79'), 'name': 'John', 'address': 'Highway 37'}\n",
      "{'_id': ObjectId('5d0b32f6ea2fc73a3b472e7e'), 'name': 'John', 'address': 'Highway 37'}\n",
      "{'_id': ObjectId('5d0b330ca691f85097f05e98'), 'name': 'John', 'address': 'Highway 37'}\n",
      "{'_id': ObjectId('5d0b357ba691f85097f05e9d'), 'name': 'John', 'address': 'Highway 37'}\n",
      "{'_id': ObjectId('5d0b360ca691f85097f05ea3'), 'name': 'Michael', 'address': 'Valley 345'}\n",
      "{'_id': ObjectId('5d0b3542a691f85097f05e99'), 'name': 'Peter', 'address': 'Lowstreet 27'}\n",
      "{'_id': ObjectId('5d0b3580a691f85097f05e9e'), 'name': 'Peter', 'address': 'Lowstreet 27'}\n",
      "{'_id': ObjectId('5d0b360ca691f85097f05ea6'), 'name': 'Richard', 'address': 'Sky st 331'}\n",
      "{'_id': ObjectId('5d0b360ca691f85097f05ea4'), 'name': 'Sandy', 'address': 'Ocean blvd 2'}\n",
      "{'_id': ObjectId('5d0b360ca691f85097f05ea7'), 'name': 'Susan', 'address': 'One way 98'}\n",
      "{'_id': ObjectId('5d0b360ca691f85097f05ea8'), 'name': 'Vicky', 'address': 'Yellow Garden 2'}\n",
      "{'_id': ObjectId('5d0b360ca691f85097f05eac'), 'name': 'Viola', 'address': 'Sideway 1633'}\n",
      "{'_id': ObjectId('5d0b360ca691f85097f05eaa'), 'name': 'William', 'address': 'Central st 954'}\n"
     ]
    }
   ],
   "source": [
    "#Sort the result alphabetically by name:\n",
    "import pymongo\n",
    "\n",
    "myclient = pymongo.MongoClient(\"mongodb://localhost:27017/\")\n",
    "mydb = myclient[\"mydatabase\"]\n",
    "mycol = mydb[\"customers\"]\n",
    "\n",
    "mydoc = mycol.find().sort(\"name\")\n",
    "\n",
    "for x in mydoc:\n",
    "  print(x)"
   ]
  },
  {
   "cell_type": "markdown",
   "metadata": {},
   "source": [
    "# Sort Descending\n",
    "Use the value -1 as the second parameter to sort descending."
   ]
  },
  {
   "cell_type": "code",
   "execution_count": 25,
   "metadata": {},
   "outputs": [
    {
     "name": "stdout",
     "output_type": "stream",
     "text": [
      "{'_id': ObjectId('5d0b360ca691f85097f05eaa'), 'name': 'William', 'address': 'Central st 954'}\n",
      "{'_id': ObjectId('5d0b360ca691f85097f05eac'), 'name': 'Viola', 'address': 'Sideway 1633'}\n",
      "{'_id': ObjectId('5d0b360ca691f85097f05ea8'), 'name': 'Vicky', 'address': 'Yellow Garden 2'}\n",
      "{'_id': ObjectId('5d0b360ca691f85097f05ea7'), 'name': 'Susan', 'address': 'One way 98'}\n",
      "{'_id': ObjectId('5d0b360ca691f85097f05ea4'), 'name': 'Sandy', 'address': 'Ocean blvd 2'}\n",
      "{'_id': ObjectId('5d0b360ca691f85097f05ea6'), 'name': 'Richard', 'address': 'Sky st 331'}\n",
      "{'_id': ObjectId('5d0b3542a691f85097f05e99'), 'name': 'Peter', 'address': 'Lowstreet 27'}\n",
      "{'_id': ObjectId('5d0b3580a691f85097f05e9e'), 'name': 'Peter', 'address': 'Lowstreet 27'}\n",
      "{'_id': ObjectId('5d0b360ca691f85097f05ea3'), 'name': 'Michael', 'address': 'Valley 345'}\n",
      "{'_id': ObjectId('5d0921ced8e8944e7feb6715'), 'name': 'John', 'address': 'Highway 37'}\n",
      "{'_id': ObjectId('5d0b32e4ea2fc73a3b472e79'), 'name': 'John', 'address': 'Highway 37'}\n",
      "{'_id': ObjectId('5d0b32f6ea2fc73a3b472e7e'), 'name': 'John', 'address': 'Highway 37'}\n",
      "{'_id': ObjectId('5d0b330ca691f85097f05e98'), 'name': 'John', 'address': 'Highway 37'}\n",
      "{'_id': ObjectId('5d0b357ba691f85097f05e9d'), 'name': 'John', 'address': 'Highway 37'}\n",
      "{'_id': ObjectId('5d0b360ca691f85097f05ea2'), 'name': 'Hannah', 'address': 'Mountain 21'}\n",
      "{'_id': ObjectId('5d0b360ca691f85097f05eab'), 'name': 'Chuck', 'address': 'Main Road 989'}\n",
      "{'_id': ObjectId('5d0b360ca691f85097f05ea5'), 'name': 'Betty', 'address': 'Green Grass 1'}\n",
      "{'_id': ObjectId('5d0b360ca691f85097f05ea9'), 'name': 'Ben', 'address': 'Park Lane 38'}\n",
      "{'_id': ObjectId('5d0b360ca691f85097f05ea1'), 'name': 'Amy', 'address': 'Apple st 652'}\n"
     ]
    }
   ],
   "source": [
    "import pymongo\n",
    "\n",
    "myclient = pymongo.MongoClient(\"mongodb://localhost:27017/\")\n",
    "mydb = myclient[\"mydatabase\"]\n",
    "mycol = mydb[\"customers\"]\n",
    "\n",
    "mydoc = mycol.find().sort(\"name\", -1)\n",
    "\n",
    "for x in mydoc:\n",
    "  print(x)"
   ]
  },
  {
   "cell_type": "markdown",
   "metadata": {},
   "source": [
    "# Delete Document\n",
    "To delete one document, we use the delete_one() method.\n",
    "\n",
    "The first parameter of the delete_one() method is a query object defining which document to delete.\n",
    "\n",
    "Note: If the query finds more than one document, only the first occurrence is deleted."
   ]
  },
  {
   "cell_type": "code",
   "execution_count": 26,
   "metadata": {},
   "outputs": [
    {
     "data": {
      "text/plain": [
       "<pymongo.results.DeleteResult at 0x22426a220c8>"
      ]
     },
     "execution_count": 26,
     "metadata": {},
     "output_type": "execute_result"
    }
   ],
   "source": [
    "import pymongo\n",
    "\n",
    "myclient = pymongo.MongoClient(\"mongodb://localhost:27017/\")\n",
    "mydb = myclient[\"mydatabase\"]\n",
    "mycol = mydb[\"customers\"]\n",
    "\n",
    "myquery = { \"address\": \"Mountain 21\" }\n",
    "\n",
    "mycol.delete_one(myquery)"
   ]
  },
  {
   "cell_type": "markdown",
   "metadata": {},
   "source": [
    "# Delete Many Documents\n",
    "To delete more than one document, use the delete_many() method.\n",
    "\n",
    "The first parameter of the delete_many() method is a query object defining which documents to delete."
   ]
  },
  {
   "cell_type": "code",
   "execution_count": 27,
   "metadata": {},
   "outputs": [
    {
     "name": "stdout",
     "output_type": "stream",
     "text": [
      "2  documents deleted.\n"
     ]
    }
   ],
   "source": [
    "import pymongo\n",
    "\n",
    "myclient = pymongo.MongoClient(\"mongodb://localhost:27017/\")\n",
    "mydb = myclient[\"mydatabase\"]\n",
    "mycol = mydb[\"customers\"]\n",
    "\n",
    "myquery = { \"address\": {\"$regex\": \"^S\"} }\n",
    "\n",
    "x = mycol.delete_many(myquery)\n",
    "\n",
    "print(x.deleted_count, \" documents deleted.\")"
   ]
  },
  {
   "cell_type": "markdown",
   "metadata": {},
   "source": [
    "# Update Collection\n",
    "You can update a record, or document as it is called in MongoDB, by using the update_one() method.\n",
    "\n",
    "The first parameter of the update_one() method is a query object defining which document to update.\n",
    "\n",
    "Note: If the query finds more than one record, only the first occurrence is updated.\n",
    "\n",
    "The second parameter is an object defining the new values of the document."
   ]
  },
  {
   "cell_type": "code",
   "execution_count": 28,
   "metadata": {},
   "outputs": [
    {
     "name": "stdout",
     "output_type": "stream",
     "text": [
      "{'_id': ObjectId('5d0921ced8e8944e7feb6715'), 'name': 'John', 'address': 'Highway 37'}\n",
      "{'_id': ObjectId('5d0b32e4ea2fc73a3b472e79'), 'name': 'John', 'address': 'Highway 37'}\n",
      "{'_id': ObjectId('5d0b32f6ea2fc73a3b472e7e'), 'name': 'John', 'address': 'Highway 37'}\n",
      "{'_id': ObjectId('5d0b330ca691f85097f05e98'), 'name': 'John', 'address': 'Highway 37'}\n",
      "{'_id': ObjectId('5d0b3542a691f85097f05e99'), 'name': 'Peter', 'address': 'Lowstreet 27'}\n",
      "{'_id': ObjectId('5d0b357ba691f85097f05e9d'), 'name': 'John', 'address': 'Highway 37'}\n",
      "{'_id': ObjectId('5d0b3580a691f85097f05e9e'), 'name': 'Peter', 'address': 'Lowstreet 27'}\n",
      "{'_id': ObjectId('5d0b360ca691f85097f05ea1'), 'name': 'Amy', 'address': 'Apple st 652'}\n",
      "{'_id': ObjectId('5d0b360ca691f85097f05ea3'), 'name': 'Michael', 'address': 'Canyon 123'}\n",
      "{'_id': ObjectId('5d0b360ca691f85097f05ea4'), 'name': 'Sandy', 'address': 'Ocean blvd 2'}\n",
      "{'_id': ObjectId('5d0b360ca691f85097f05ea5'), 'name': 'Betty', 'address': 'Green Grass 1'}\n",
      "{'_id': ObjectId('5d0b360ca691f85097f05ea7'), 'name': 'Susan', 'address': 'One way 98'}\n",
      "{'_id': ObjectId('5d0b360ca691f85097f05ea8'), 'name': 'Vicky', 'address': 'Yellow Garden 2'}\n",
      "{'_id': ObjectId('5d0b360ca691f85097f05ea9'), 'name': 'Ben', 'address': 'Park Lane 38'}\n",
      "{'_id': ObjectId('5d0b360ca691f85097f05eaa'), 'name': 'William', 'address': 'Central st 954'}\n",
      "{'_id': ObjectId('5d0b360ca691f85097f05eab'), 'name': 'Chuck', 'address': 'Main Road 989'}\n"
     ]
    }
   ],
   "source": [
    "import pymongo\n",
    "\n",
    "myclient = pymongo.MongoClient(\"mongodb://localhost:27017/\")\n",
    "mydb = myclient[\"mydatabase\"]\n",
    "mycol = mydb[\"customers\"]\n",
    "\n",
    "myquery = { \"address\": \"Valley 345\" }\n",
    "newvalues = { \"$set\": { \"address\": \"Canyon 123\" } }\n",
    "\n",
    "mycol.update_one(myquery, newvalues)\n",
    "\n",
    "#print \"customers\" after the update:\n",
    "for x in mycol.find():\n",
    "  print(x)"
   ]
  },
  {
   "cell_type": "code",
   "execution_count": null,
   "metadata": {},
   "outputs": [],
   "source": []
  }
 ],
 "metadata": {
  "kernelspec": {
   "display_name": "Python 3",
   "language": "python",
   "name": "python3"
  },
  "language_info": {
   "codemirror_mode": {
    "name": "ipython",
    "version": 3
   },
   "file_extension": ".py",
   "mimetype": "text/x-python",
   "name": "python",
   "nbconvert_exporter": "python",
   "pygments_lexer": "ipython3",
   "version": "3.7.1"
  }
 },
 "nbformat": 4,
 "nbformat_minor": 2
}
