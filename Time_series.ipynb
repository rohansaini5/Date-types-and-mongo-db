{
 "cells": [
  {
   "cell_type": "markdown",
   "metadata": {},
   "source": [
    "# Python Dates\n",
    "A date in Python is not a data type of its own, but we can import a module named datetime to work with dates as date objects."
   ]
  },
  {
   "cell_type": "code",
   "execution_count": 2,
   "metadata": {},
   "outputs": [
    {
     "name": "stdout",
     "output_type": "stream",
     "text": [
      "2019-06-21 10:48:25.314609\n"
     ]
    }
   ],
   "source": [
    "import datetime\n",
    "\n",
    "x = datetime.datetime.now()\n",
    "print(x)\n"
   ]
  },
  {
   "cell_type": "markdown",
   "metadata": {},
   "source": [
    "# Date Output\n",
    "When we execute the code from the example above the result will be:\n",
    "\n",
    "2019-06-21 10:47:43.863289\n",
    "The date contains year, month, day, hour, minute, second, and microsecond.\n",
    "\n",
    "The datetime module has many methods to return information about the date object.\n",
    "\n",
    "Here are a few examples, you will learn more about them later in this chapter:\n",
    "\n"
   ]
  },
  {
   "cell_type": "code",
   "execution_count": 3,
   "metadata": {},
   "outputs": [
    {
     "name": "stdout",
     "output_type": "stream",
     "text": [
      "2019\n",
      "Friday\n"
     ]
    }
   ],
   "source": [
    "x = datetime.datetime.now()\n",
    "\n",
    "print(x.year)\n",
    "print(x.strftime(\"%A\"))"
   ]
  },
  {
   "cell_type": "markdown",
   "metadata": {},
   "source": [
    "# Creating Date Objects\n",
    "To create a date, we can use the datetime() class (constructor) of the datetime module.\n",
    "\n",
    "The datetime() class requires three parameters to create a date: year, month, day.\n",
    "\n"
   ]
  },
  {
   "cell_type": "code",
   "execution_count": 4,
   "metadata": {},
   "outputs": [
    {
     "name": "stdout",
     "output_type": "stream",
     "text": [
      "2020-05-17 00:00:00\n"
     ]
    }
   ],
   "source": [
    "x = datetime.datetime(2020, 5, 17)\n",
    "\n",
    "print(x)"
   ]
  },
  {
   "cell_type": "markdown",
   "metadata": {},
   "source": [
    "The datetime() class also takes parameters for time and timezone (hour, minute, second, microsecond, tzone), but they are optional, and has a default value of 0, (None for timezone)."
   ]
  },
  {
   "cell_type": "markdown",
   "metadata": {},
   "source": [
    "# The strftime() Method\n",
    "The datetime object has a method for formatting date objects into readable strings.\n",
    "\n",
    "The method is called strftime(), and takes one parameter, format, to specify the format of the returned string:"
   ]
  },
  {
   "cell_type": "code",
   "execution_count": 5,
   "metadata": {},
   "outputs": [
    {
     "name": "stdout",
     "output_type": "stream",
     "text": [
      "June\n"
     ]
    }
   ],
   "source": [
    "x = datetime.datetime(2018, 6, 1)\n",
    "\n",
    "print(x.strftime(\"%B\"))"
   ]
  },
  {
   "cell_type": "markdown",
   "metadata": {},
   "source": [
    "# Directive\tDescription\tExample\tTry it\n",
    "\n",
    "#  %a\tWeekday, short version\tWed\t\n",
    "\n",
    "#  %A\tWeekday, full version\tWednesday\t\n",
    "\n",
    "#  %w\tWeekday as a number 0-6, 0 is Sunday\t3\t\n",
    "\n",
    "#  %d\tDay of month 01-31\t31\t\n",
    "\n",
    "#  %b\tMonth name, short version\tDec\t\n",
    "\n",
    "#  %B\tMonth name, full version\tDecember\t\n",
    "\n",
    "#  %m\tMonth as a number 01-12\t12\t\n",
    "\n",
    "#  %y\tYear, short version, without century\t18\t\n",
    "\n",
    "#  %Y\tYear, full version\t2018\t\n",
    "\n",
    "#  %H\tHour 00-23\t17\t\n",
    "\n",
    "#  %I\tHour 00-12\t05\t\n",
    "\n",
    "#  %p\tAM/PM\tPM\t\n",
    "\n",
    "#  %M\tMinute 00-59\t41\t\n",
    "\n",
    "#  %S\tSecond 00-59\t08\t\n",
    "\n",
    "#  %f\tMicrosecond 000000-999999\t548513\t\n",
    "\n",
    "#  %z\tUTC offset\t+0100\t\n",
    "\n",
    "#  %Z\tTimezone\tCST\t\n",
    "\n",
    "#  %j\tDay number of year 001-366\t365\t\n",
    "\n",
    "#  %x\tLocal version of date\t12/31/18\t\n",
    "\n",
    "#  %X\tLocal version of time\t17:41:00\t\n",
    "\n",
    "#  %%\tA % character\t%\t\n",
    " "
   ]
  }
 ],
 "metadata": {
  "kernelspec": {
   "display_name": "Python 3",
   "language": "python",
   "name": "python3"
  },
  "language_info": {
   "codemirror_mode": {
    "name": "ipython",
    "version": 3
   },
   "file_extension": ".py",
   "mimetype": "text/x-python",
   "name": "python",
   "nbconvert_exporter": "python",
   "pygments_lexer": "ipython3",
   "version": "3.7.1"
  }
 },
 "nbformat": 4,
 "nbformat_minor": 2
}
